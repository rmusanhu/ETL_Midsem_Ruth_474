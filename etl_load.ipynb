{
 "cells": [
  {
   "cell_type": "markdown",
   "id": "ee91a388",
   "metadata": {},
   "source": [
    "# **LOADING**\n",
    "This notebook will deal with the **Load** phase of the ETL pipeline \n",
    "#### TO DO LIST \n",
    "\n",
    "    Load the cleaned data from the transformed/ directory.\n",
    "    Save this data into an SQLite database.\n",
    "    Verify that the data has been loaded correctly by running a simple SQL query.\n",
    "    Export preview to loaded/ directory\n"
   ]
  },
  {
   "cell_type": "markdown",
   "id": "f61265bb",
   "metadata": {},
   "source": [
    "## Load the cleaned data\n",
    "* Will load the cleaned data as well as the required libries\n",
    "* The sqlite3 library will allow one to interact with SQLite databases — a lightweight, file-based SQL database system in Python.\n",
    "* The SQLite database is the easiest for queries whilst Parquet  is better for big data, since our dataset are not that big will use SQLite database\n"
   ]
  },
  {
   "cell_type": "code",
   "execution_count": 7,
   "id": "5cb24cb2",
   "metadata": {},
   "outputs": [],
   "source": [
    "import pandas as pd\n",
    "import sqlite3 \n",
    "import os\n",
    "\n",
    "# Load transformed data\n",
    "full_df = pd.read_csv(\"transformed/transformed_full.csv\")\n",
    "inc_df = pd.read_csv(\"transformed/transformed_incremental.csv\")"
   ]
  },
  {
   "cell_type": "markdown",
   "id": "42a0723e",
   "metadata": {},
   "source": [
    "## Connecting to SQLite database and saving the data into SQLite database\n",
    "* Now we connect to the database and save the cleaned data to the database\n"
   ]
  },
  {
   "cell_type": "code",
   "execution_count": 13,
   "id": "7b8d47a2",
   "metadata": {},
   "outputs": [],
   "source": [
    "# Connect to SQLite database\n",
    "conn_full = sqlite3.connect(\"loaded/full_data.db\")\n",
    "conn_inc = sqlite3.connect(\"loaded/incremental_data.db\")\n"
   ]
  },
  {
   "cell_type": "code",
   "execution_count": 9,
   "id": "4439a79b",
   "metadata": {},
   "outputs": [
    {
     "data": {
      "text/plain": [
       "10"
      ]
     },
     "execution_count": 9,
     "metadata": {},
     "output_type": "execute_result"
    }
   ],
   "source": [
    "# Save DataFrames to SQLite\n",
    "full_df.to_sql(\"full_data\", conn_full, if_exists=\"replace\", index=False)\n",
    "inc_df.to_sql(\"incremental_data\", conn_inc, if_exists=\"replace\", index=False)\n"
   ]
  },
  {
   "cell_type": "markdown",
   "id": "962d1ae9",
   "metadata": {},
   "source": [
    "##  Checking to see if the dataset is saved in the database"
   ]
  },
  {
   "cell_type": "code",
   "execution_count": 11,
   "id": "5a000f9a",
   "metadata": {},
   "outputs": [
    {
     "name": "stdout",
     "output_type": "stream",
     "text": [
      "Full Data Preview:\n",
      "   order_id customer_name product  quantity  unit_price  order_date region  \\\n",
      "0         1         Diana  Tablet       0.0       500.0  2024-01-20  South   \n",
      "1         2           Eve  Laptop       0.0         0.0  2024-04-29  North   \n",
      "2         3       Charlie  Laptop       2.0       250.0  2024-01-08      0   \n",
      "3         4           Eve  Laptop       2.0       750.0  2024-01-07   West   \n",
      "4         5           Eve  Tablet       3.0         0.0  2024-03-07  South   \n",
      "\n",
      "   total_price customer_tier  \n",
      "0          0.0        Bronze  \n",
      "1          0.0        Bronze  \n",
      "2        500.0        Silver  \n",
      "3       1500.0          Gold  \n",
      "4          0.0        Bronze  \n",
      "\n",
      "Incremental Data Preview:\n",
      "   order_id customer_name product  quantity  unit_price  order_date   region  \\\n",
      "0       101         Alice  Laptop       0.0       900.0  2024-05-09  Central   \n",
      "1       102             0  Laptop       1.0       300.0  2024-05-07  Central   \n",
      "2       103             0  Laptop       1.0       600.0  2024-05-04  Central   \n",
      "3       104             0  Tablet       0.0       300.0  2024-05-26  Central   \n",
      "4       105         Heidi  Tablet       2.0       600.0  2024-05-21    North   \n",
      "\n",
      "   total_price customer_tier  \n",
      "0          0.0        Bronze  \n",
      "1        300.0        Bronze  \n",
      "2        600.0        Silver  \n",
      "3          0.0        Bronze  \n",
      "4       1200.0          Gold  \n"
     ]
    }
   ],
   "source": [
    "# Preview from DB\n",
    "print(\"Full Data Preview:\")\n",
    "print(pd.read_sql(\"SELECT * FROM full_data LIMIT 5\", conn_full))\n",
    "\n",
    "print(\"\\nIncremental Data Preview:\")\n",
    "print(pd.read_sql(\"SELECT * FROM incremental_data LIMIT 5\", conn_inc))\n",
    "\n",
    "\n"
   ]
  },
  {
   "cell_type": "markdown",
   "id": "49965aa6",
   "metadata": {},
   "source": [
    "## Export Preview to the loaded/ folder\n",
    "the full_data_preview.csv and incremental_data_preview.csv were created to prove the data was successfully saved and readable from the .db files "
   ]
  },
  {
   "cell_type": "code",
   "execution_count": null,
   "id": "6f3d51ea",
   "metadata": {},
   "outputs": [
    {
     "name": "stdout",
     "output_type": "stream",
     "text": [
      "Preview from full_data.db:\n",
      "   order_id customer_name product  quantity  unit_price  order_date region  \\\n",
      "0         1         Diana  Tablet       0.0       500.0  2024-01-20  South   \n",
      "1         2           Eve  Laptop       0.0         0.0  2024-04-29  North   \n",
      "2         3       Charlie  Laptop       2.0       250.0  2024-01-08      0   \n",
      "3         4           Eve  Laptop       2.0       750.0  2024-01-07   West   \n",
      "4         5           Eve  Tablet       3.0         0.0  2024-03-07  South   \n",
      "\n",
      "   total_price customer_tier  \n",
      "0          0.0        Bronze  \n",
      "1          0.0        Bronze  \n",
      "2        500.0        Silver  \n",
      "3       1500.0          Gold  \n",
      "4          0.0        Bronze  \n",
      "\n",
      "Preview from incremental_data.db:\n",
      "   order_id customer_name product  quantity  unit_price  order_date   region  \\\n",
      "0       101         Alice  Laptop       0.0       900.0  2024-05-09  Central   \n",
      "1       102             0  Laptop       1.0       300.0  2024-05-07  Central   \n",
      "2       103             0  Laptop       1.0       600.0  2024-05-04  Central   \n",
      "3       104             0  Tablet       0.0       300.0  2024-05-26  Central   \n",
      "4       105         Heidi  Tablet       2.0       600.0  2024-05-21    North   \n",
      "\n",
      "   total_price customer_tier  \n",
      "0          0.0        Bronze  \n",
      "1        300.0        Bronze  \n",
      "2        600.0        Silver  \n",
      "3          0.0        Bronze  \n",
      "4       1200.0          Gold  \n"
     ]
    }
   ],
   "source": [
    "\n",
    "\n",
    "# === Preview full_data.db ===\n",
    "conn_full = sqlite3.connect(\"loaded/full_data.db\")\n",
    "preview_full = pd.read_sql(\"SELECT * FROM full_data LIMIT 5\", conn_full)\n",
    "conn_full.close()\n",
    "\n",
    "# Show and save preview\n",
    "print(\"Preview from full_data.db:\")\n",
    "print(preview_full)\n",
    "preview_full.to_csv(\"loaded/full_data_preview.csv\", index=False)\n",
    "\n",
    "\n",
    "# === Preview incremental_data.db ===\n",
    "conn_inc = sqlite3.connect(\"loaded/incremental_data.db\")\n",
    "preview_inc = pd.read_sql(\"SELECT * FROM incremental_data LIMIT 5\", conn_inc)\n",
    "conn_inc.close()\n",
    "\n",
    "# Show and save preview\n",
    "print(\"\\nPreview from incremental_data.db:\")\n",
    "print(preview_inc)\n",
    "preview_inc.to_csv(\"loaded/incremental_data_preview.csv\", index=False)\n"
   ]
  }
 ],
 "metadata": {
  "kernelspec": {
   "display_name": "base",
   "language": "python",
   "name": "python3"
  },
  "language_info": {
   "codemirror_mode": {
    "name": "ipython",
    "version": 3
   },
   "file_extension": ".py",
   "mimetype": "text/x-python",
   "name": "python",
   "nbconvert_exporter": "python",
   "pygments_lexer": "ipython3",
   "version": "3.12.4"
  }
 },
 "nbformat": 4,
 "nbformat_minor": 5
}
